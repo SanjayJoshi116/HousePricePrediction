{
 "cells": [
  {
   "cell_type": "code",
   "execution_count": 1,
   "id": "4973b96b",
   "metadata": {},
   "outputs": [],
   "source": [
    "import pandas as pd\n",
    "import numpy as np\n",
    "dataset = pd.read_csv('house_price_mumbai.csv')\n",
    "X = dataset.iloc[:,[0,5]].values\n",
    "y = dataset.iloc[:, 6].values"
   ]
  },
  {
   "cell_type": "code",
   "execution_count": 2,
   "id": "5ab1734f",
   "metadata": {},
   "outputs": [],
   "source": [
    "from sklearn.model_selection import train_test_split\n",
    "X_train, X_test, y_train, y_test = train_test_split(X, y, test_size = 0.25, random_state = 0)"
   ]
  },
  {
   "cell_type": "code",
   "execution_count": 3,
   "id": "ab8b226c",
   "metadata": {},
   "outputs": [],
   "source": [
    "from sklearn.preprocessing import StandardScaler\n",
    "sc = StandardScaler()\n",
    "X_train = sc.fit_transform(X_train)\n",
    "X_test = sc.transform(X_test)"
   ]
  },
  {
   "cell_type": "code",
   "execution_count": 4,
   "id": "82035ed5",
   "metadata": {},
   "outputs": [
    {
     "data": {
      "text/plain": [
       "RandomForestRegressor(max_features=None)"
      ]
     },
     "execution_count": 4,
     "metadata": {},
     "output_type": "execute_result"
    }
   ],
   "source": [
    "from sklearn.ensemble import RandomForestRegressor\n",
    "reg = RandomForestRegressor(n_estimators=100,max_features=None)\n",
    "reg.fit(X_train,y_train)"
   ]
  },
  {
   "cell_type": "code",
   "execution_count": 5,
   "id": "6581b61a",
   "metadata": {},
   "outputs": [
    {
     "name": "stdout",
     "output_type": "stream",
     "text": [
      "R square value: 87.33808440075646\n"
     ]
    }
   ],
   "source": [
    "y_pred = reg.predict(X_test)\n",
    "score = reg.score(X_test,y_test)*100\n",
    "print(\"R square value:\" , score)"
   ]
  },
  {
   "cell_type": "code",
   "execution_count": 6,
   "id": "4aec2c95",
   "metadata": {},
   "outputs": [
    {
     "name": "stdout",
     "output_type": "stream",
     "text": [
      "Enter BHK3\n",
      "Enter Price Per Square Feet67000\n"
     ]
    }
   ],
   "source": [
    "bhk = int(input('Enter BHK'))\n",
    "price_sqft = int(input('Enter Price Per Square Feet'))"
   ]
  },
  {
   "cell_type": "code",
   "execution_count": 7,
   "id": "a8b027f6",
   "metadata": {},
   "outputs": [
    {
     "name": "stdout",
     "output_type": "stream",
     "text": [
      "Predicted Price: [1061.3]\n"
     ]
    }
   ],
   "source": [
    "new_prediction = reg.predict(sc.transform(np.array([[bhk,price_sqft]])))\n",
    "print(\"Predicted Price:\", new_prediction)"
   ]
  },
  {
   "cell_type": "code",
   "execution_count": null,
   "id": "ee1dfd67",
   "metadata": {},
   "outputs": [],
   "source": []
  }
 ],
 "metadata": {
  "kernelspec": {
   "display_name": "Python 3 (ipykernel)",
   "language": "python",
   "name": "python3"
  },
  "language_info": {
   "codemirror_mode": {
    "name": "ipython",
    "version": 3
   },
   "file_extension": ".py",
   "mimetype": "text/x-python",
   "name": "python",
   "nbconvert_exporter": "python",
   "pygments_lexer": "ipython3",
   "version": "3.9.13"
  }
 },
 "nbformat": 4,
 "nbformat_minor": 5
}
